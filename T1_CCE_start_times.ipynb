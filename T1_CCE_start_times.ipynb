{
 "cells": [
  {
   "cell_type": "markdown",
   "metadata": {},
   "source": [
    "# Determine the start times of the ringdown for multimode fits to the CCE simulations"
   ]
  },
  {
   "cell_type": "code",
   "execution_count": 1,
   "metadata": {},
   "outputs": [],
   "source": [
    "import numpy as np\n",
    "import matplotlib.pyplot as plt\n",
    "import qnmfits\n",
    "import CCE\n",
    "from qnmfits.qnmfits.spatial_mapping_functions import *\n",
    "\n",
    "plt.style.use(\"stylesheet.mplstyle\")"
   ]
  },
  {
   "cell_type": "code",
   "execution_count": 3,
   "metadata": {},
   "outputs": [],
   "source": [
    "l_max = 8\n",
    "n_max = 7\n",
    "\n",
    "t0_array = np.linspace(-30, 100, 131)\n",
    "\n",
    "QNMs = [\n",
    "    (lam, mu, n, p)\n",
    "    for lam in np.arange(2, l_max + 1)\n",
    "    for mu in np.arange(-lam, lam + 1)\n",
    "    for n in np.arange(0, n_max + 1)\n",
    "    for p in (-1, +1)\n",
    "]\n",
    "\n",
    "simnums = [\n",
    "    \"0001\",\n",
    "    \"0002\",\n",
    "    \"0003\",\n",
    "    \"0004\",\n",
    "    \"0005\",\n",
    "    \"0006\",\n",
    "    \"0007\",\n",
    "    \"0008\",\n",
    "    \"0009\",\n",
    "    \"0010\",\n",
    "    \"0011\",\n",
    "    \"0012\",\n",
    "    \"0013\",\n",
    "]"
   ]
  },
  {
   "cell_type": "code",
   "execution_count": null,
   "metadata": {},
   "outputs": [],
   "source": [
    "start_times = []\n",
    "mismatch_dict_full = {}\n",
    "\n",
    "for simnum in simnums:\n",
    "\n",
    "    print(simnum)\n",
    "\n",
    "    sim = CCE.SXS_CCE(simnum)\n",
    "\n",
    "    mm_list = qnmfits.mismatch_t0_array(\n",
    "        sim.times, sim.h, QNMs, Mf=sim.Mf, chif=sim.chif_mag, t0_array=t0_array\n",
    "    )\n",
    "\n",
    "    start_times.append(t0_array[mm_list.index(np.min(mm_list))])\n",
    "    mismatch_dict_full[simnum] = mm_list\n",
    "\n",
    "print(start_times)"
   ]
  }
 ],
 "metadata": {
  "kernelspec": {
   "display_name": "Python 3",
   "language": "python",
   "name": "python3"
  },
  "language_info": {
   "codemirror_mode": {
    "name": "ipython",
    "version": 3
   },
   "file_extension": ".py",
   "mimetype": "text/x-python",
   "name": "python",
   "nbconvert_exporter": "python",
   "pygments_lexer": "ipython3",
   "version": "3.11.4"
  }
 },
 "nbformat": 4,
 "nbformat_minor": 2
}
