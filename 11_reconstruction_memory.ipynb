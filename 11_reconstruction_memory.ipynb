{
 "cells": [
  {
   "cell_type": "markdown",
   "metadata": {},
   "source": [
    "# Reconstruction: $m=0$ \n",
    "\n",
    "The spatial reconstruction of the loudest $m=0$ QQNM compared with a second-order PT prediction, plotted on the sphere in Mollweide projection. "
   ]
  },
  {
   "cell_type": "code",
   "execution_count": 1,
   "metadata": {},
   "outputs": [],
   "source": [
    "import numpy as np\n",
    "import matplotlib.pyplot as plt\n",
    "import CCE\n",
    "from qnmfits.spatial_mapping_functions import *\n",
    "\n",
    "plt.style.use(\"stylesheet.mplstyle\")\n",
    "fig_width = 246.0 * (1.0 / 72.27)\n",
    "fig_height = fig_width / 1.618"
   ]
  },
  {
   "cell_type": "code",
   "execution_count": 2,
   "metadata": {},
   "outputs": [],
   "source": [
    "id = \"0001\"\n",
    "sim = CCE.SXS_CCE(id)\n",
    "\n",
    "chif = sim.chif_mag\n",
    "Mf = sim.Mf\n",
    "\n",
    "l_max = 8\n",
    "n_max = 7\n",
    "\n",
    "t0 = 17"
   ]
  },
  {
   "cell_type": "code",
   "execution_count": 3,
   "metadata": {},
   "outputs": [],
   "source": [
    "mapping = [(2, 2, 0, 1, 2, -2, 0, -1)]\n",
    "map = mapping[0]\n",
    "\n",
    "QNMs = [\n",
    "    (lam, 0, n, p)\n",
    "    for lam in np.arange(2, l_max + 1)\n",
    "    for n in np.arange(0, n_max + 1)\n",
    "    for p in (-1, +1)\n",
    "]\n",
    "\n",
    "best_fit = mapping_multimode_ringdown_fit(\n",
    "    sim.times,\n",
    "    sim.h,\n",
    "    modes=QNMs.copy(),\n",
    "    Mf=sim.Mf,\n",
    "    chif=sim.chif_mag,\n",
    "    t0=t0,\n",
    "    mapping_modes=mapping,\n",
    "    spherical_modes=[(lam, 0) for lam in np.arange(2, l_max + 1)],\n",
    ")"
   ]
  },
  {
   "cell_type": "code",
   "execution_count": null,
   "metadata": {},
   "outputs": [
    {
     "name": "stdout",
     "output_type": "stream",
     "text": [
      "(0.03165768035185035, 7.190763735936686e-07, (0.0012754211875670707+9.171252423604176e-10j))\n"
     ]
    }
   ],
   "source": [
    "lon = np.linspace(-np.pi, np.pi, 200)\n",
    "lat = np.linspace(-np.pi / 2, np.pi / 2, 200)\n",
    "Lon, Lat = np.meshgrid(lon, lat)\n",
    "\n",
    "map = (2, 2, 0, 1, 2, -2, 0, -1)\n",
    "\n",
    "# Use the symmetric B prediction for comparison\n",
    "\n",
    "def Qmu_B_sym(indices, chif, l_max, **kwargs):\n",
    "    return [\n",
    "        (\n",
    "            Qmu_B(indices, chif, l_max, s1=-2, s2=0)[0]\n",
    "            + Qmu_B(indices, chif, l_max, s1=0, s2=-2)[0]\n",
    "        )\n",
    "        / 2\n",
    "    ]\n",
    "\n",
    "\n",
    "F = spatial_reconstruction(np.pi / 2 - Lat, Lon, best_fit, map, l_max)\n",
    "G_B_sym = spatial_prediction_quadratic(\n",
    "    np.pi / 2 - Lat, Lon, map, l_max, chif, Qmu_B_sym\n",
    ")\n",
    "\n",
    "print(spatial_mismatch_quadratic(best_fit, map, l_max, chif, Qmu_B_sym))"
   ]
  },
  {
   "cell_type": "code",
   "execution_count": 6,
   "metadata": {},
   "outputs": [
    {
     "name": "stderr",
     "output_type": "stream",
     "text": [
      "/tmp/ipykernel_30288/2341414249.py:22: UserWarning: This figure includes Axes that are not compatible with tight_layout, so results might be incorrect.\n",
      "  fig.savefig(\"figs/reconstruction_memory.png\", dpi=600, bbox_inches=\"tight\")\n",
      "/data/vault/rvnd2/python_envs/venv/lib/python3.11/site-packages/IPython/core/pylabtools.py:170: UserWarning: This figure includes Axes that are not compatible with tight_layout, so results might be incorrect.\n",
      "  fig.canvas.print_figure(bytes_io, **kw)\n"
     ]
    },
    {
     "data": {
      "image/png": "[encoded data removed]",
      "text/plain": [
       "<Figure size 340.39x210.377 with 3 Axes>"
      ]
     },
     "metadata": {},
     "output_type": "display_data"
    }
   ],
   "source": [
    "fig, ax = plt.subplots(\n",
    "    figsize=(fig_width, fig_height),\n",
    "    nrows=1,\n",
    "    ncols=2,\n",
    "    subplot_kw={\"projection\": \"mollweide\"},\n",
    ")\n",
    "\n",
    "ax[0].title.set_text(\"Reconstruction\")\n",
    "ax[0].pcolormesh(Lon, Lat, np.real(F), cmap=plt.cm.RdBu, vmin=-1, vmax=1)\n",
    "ax[0].set_xticks(np.radians([-90, 0, 90]))\n",
    "ax[0].set_yticks(np.radians([-60, 0, 60]))\n",
    "\n",
    "ax[1].title.set_text(\"Prediction B (i) symmetric\")\n",
    "im3 = ax[1].pcolormesh(Lon, Lat, np.real(G_B_sym), cmap=plt.cm.RdBu, vmin=-1, vmax=1)\n",
    "ax[1].set_xticks(np.radians([-90, 0, 90]))\n",
    "ax[1].set_yticks(np.radians([-60, 0, 60]))\n",
    "\n",
    "cax = fig.add_axes([0.25, 0.21, 0.51, 0.04])\n",
    "fig.colorbar(im3, cax=cax, orientation=\"horizontal\")\n",
    "fig.text(\n",
    "    0.5,\n",
    "    0.28,\n",
    "    r\"$\\mathrm{Re}(A_{\\Tilde{\\alpha} \\Tilde{\\alpha}'}(\\theta , \\phi))$\",\n",
    "    ha=\"center\",\n",
    ")\n",
    "\n",
    "fig.savefig(\"figs/reconstruction_memory.png\", dpi=600, bbox_inches=\"tight\")\n",
    "plt.show()"
   ]
  }
 ],
 "metadata": {
  "kernelspec": {
   "display_name": "Python 3",
   "language": "python",
   "name": "python3"
  },
  "language_info": {
   "codemirror_mode": {
    "name": "ipython",
    "version": 3
   },
   "file_extension": ".py",
   "mimetype": "text/x-python",
   "name": "python",
   "nbconvert_exporter": "python",
   "pygments_lexer": "ipython3",
   "version": "3.11.4"
  }
 },
 "nbformat": 4,
 "nbformat_minor": 2
}
