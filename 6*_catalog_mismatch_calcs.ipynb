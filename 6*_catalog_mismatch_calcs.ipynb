{
 "cells": [
  {
   "cell_type": "code",
   "execution_count": 1,
   "metadata": {},
   "outputs": [],
   "source": [
    "import numpy as np\n",
    "import matplotlib.pyplot as plt\n",
    "import pickle\n",
    "import qnmfits\n",
    "import CCE\n",
    "from qnmfits.spatial_mapping_functions import *\n",
    "\n",
    "plt.style.use(\"stylesheet.mplstyle\")"
   ]
  },
  {
   "cell_type": "code",
   "execution_count": 2,
   "metadata": {},
   "outputs": [],
   "source": [
    "simnums = [\n",
    "    \"0001\",\n",
    "    \"0002\",\n",
    "    \"0003\",\n",
    "    \"0004\",\n",
    "    \"0005\",\n",
    "    \"0006\",\n",
    "    \"0007\",\n",
    "    \"0008\",\n",
    "    \"0009\",\n",
    "    \"0010\",\n",
    "    \"0011\",\n",
    "    \"0012\",\n",
    "    \"0013\",\n",
    "]\n",
    "\n",
    "sim_options = [(\"Lev4\", \"R2\"), (\"Lev4\", \"R3\"), (\"Lev5\", \"R2\"), (\"Lev5\", \"R3\")]"
   ]
  },
  {
   "cell_type": "code",
   "execution_count": 3,
   "metadata": {},
   "outputs": [],
   "source": [
    "start_times = [\n",
    "    17.0,\n",
    "    21.0,\n",
    "    23.0,\n",
    "    26.0,\n",
    "    17.0,\n",
    "    17.0,\n",
    "    17.0,\n",
    "    11.0,\n",
    "    29.0,\n",
    "    16.0,\n",
    "    12.0,\n",
    "    17.0,\n",
    "    6.0,\n",
    "]"
   ]
  },
  {
   "cell_type": "code",
   "execution_count": 4,
   "metadata": {},
   "outputs": [],
   "source": [
    "l_max = 8\n",
    "n_max = 7"
   ]
  },
  {
   "cell_type": "code",
   "execution_count": 5,
   "metadata": {},
   "outputs": [],
   "source": [
    "mappings = [\n",
    "    (lam, mu, n, p)\n",
    "    for lam in np.arange(2, l_max + 1)\n",
    "    for mu in np.arange(-lam, lam + 1)\n",
    "    for n in np.arange(0, n_max + 1)\n",
    "    for p in (-1, +1)\n",
    "]\n",
    "\n",
    "sim_mismatches = {}"
   ]
  },
  {
   "cell_type": "code",
   "execution_count": null,
   "metadata": {},
   "outputs": [],
   "source": [
    "# Compute the spatial mismatch for every QNM in every simulation and save the results\n",
    "\n",
    "for simnum, t0 in zip(simnums, start_times):\n",
    "    for option in sim_options:\n",
    "\n",
    "        lev, radius = option\n",
    "\n",
    "        name = simnum + \"_\" + lev + \"_\" + radius\n",
    "\n",
    "        print(name)\n",
    "\n",
    "        sim = CCE.SXS_CCE(simnum, lev=lev, radius=radius)\n",
    "\n",
    "        mismatch_dict = {}\n",
    "\n",
    "        for i, map in enumerate(mappings):\n",
    "\n",
    "            lp, mp, nprime, pp = map\n",
    "\n",
    "            lpp = abs(mp)\n",
    "            if lpp < 2:\n",
    "                lpp = 2\n",
    "\n",
    "            QNMs = [\n",
    "                (lam, mp, n, p)\n",
    "                for lam in np.arange(lpp, l_max + 1)\n",
    "                for n in np.arange(0, n_max + 1)\n",
    "                for p in (-1, +1)\n",
    "            ]\n",
    "\n",
    "            best_fit = qnmfits.mapping_multimode_ringdown_fit(\n",
    "                sim.times,\n",
    "                sim.h,\n",
    "                modes=QNMs.copy(),\n",
    "                Mf=sim.Mf,\n",
    "                chif=sim.chif_mag,\n",
    "                t0=t0,\n",
    "                mapping_modes=[map],\n",
    "                spherical_modes=[(lam, mp) for lam in np.arange(lpp, l_max + 1)],\n",
    "            )\n",
    "\n",
    "            sm, arg, _ = spatial_mismatch_linear(best_fit, map, sim.chif_mag, l_max)\n",
    "\n",
    "            mismatch_dict[map] = sm\n",
    "\n",
    "        sim_mismatches[name] = mismatch_dict"
   ]
  },
  {
   "cell_type": "code",
   "execution_count": 7,
   "metadata": {},
   "outputs": [],
   "source": [
    "with open(\"sim_mismatches_new.pickle\", \"wb\") as file:\n",
    "    pickle.dump(sim_mismatches, file)"
   ]
  }
 ],
 "metadata": {
  "kernelspec": {
   "display_name": "Python 3",
   "language": "python",
   "name": "python3"
  },
  "language_info": {
   "codemirror_mode": {
    "name": "ipython",
    "version": 3
   },
   "file_extension": ".py",
   "mimetype": "text/x-python",
   "name": "python",
   "nbconvert_exporter": "python",
   "pygments_lexer": "ipython3",
   "version": "3.11.4"
  }
 },
 "nbformat": 4,
 "nbformat_minor": 2
}
