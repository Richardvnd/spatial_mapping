{
 "cells": [
  {
   "cell_type": "markdown",
   "metadata": {},
   "source": [
    "# Temporal and spatial mismatch vs $t_0$: (2,2) mode only"
   ]
  },
  {
   "cell_type": "code",
   "execution_count": 1,
   "metadata": {},
   "outputs": [],
   "source": [
    "import numpy as np\n",
    "import matplotlib.pyplot as plt\n",
    "import qnmfits\n",
    "import CCE\n",
    "from qnmfits.spatial_mapping_functions import *\n",
    "\n",
    "plt.style.use(\"stylesheet.mplstyle\")\n",
    "fig_width = 246.0 * (1.0 / 72.27)\n",
    "fig_height = fig_width / 1.618"
   ]
  },
  {
   "cell_type": "code",
   "execution_count": 2,
   "metadata": {},
   "outputs": [],
   "source": [
    "id = \"0001\"\n",
    "\n",
    "sim_main = CCE.SXS_CCE(id, lev=\"Lev5\", radius=\"R2\")\n",
    "sim_options = [(\"Lev4\", \"R2\"), (\"Lev4\", \"R3\"), (\"Lev5\", \"R3\")]\n",
    "\n",
    "sims = []\n",
    "\n",
    "for lev, R in sim_options:\n",
    "    try:\n",
    "        sim = CCE.SXS_CCE(id, lev=lev, radius=R)\n",
    "        sims.append(sim)\n",
    "    except:\n",
    "        pass"
   ]
  },
  {
   "cell_type": "code",
   "execution_count": 3,
   "metadata": {},
   "outputs": [],
   "source": [
    "l_max = 8\n",
    "n_max = 7"
   ]
  },
  {
   "cell_type": "code",
   "execution_count": 4,
   "metadata": {},
   "outputs": [],
   "source": [
    "t0_array = np.linspace(-30, 100, 100)\n",
    "mode_list = [[(2, 2, n, 1) for n in range(N + 1)] for N in range(1, n_max + 1)]"
   ]
  },
  {
   "cell_type": "code",
   "execution_count": 5,
   "metadata": {},
   "outputs": [],
   "source": [
    "mm_array = np.zeros((len(mode_list), len(t0_array)))\n",
    "\n",
    "for i, modes in enumerate(mode_list):\n",
    "\n",
    "    mm_list = qnmfits.mismatch_t0_array(\n",
    "        sim_main.times,\n",
    "        sim_main.h[2, 2],\n",
    "        modes,\n",
    "        Mf=sim_main.Mf,\n",
    "        chif=sim_main.chif_mag,\n",
    "        t0_array=t0_array,\n",
    "    )\n",
    "\n",
    "    mm_array[i] = mm_list"
   ]
  },
  {
   "cell_type": "code",
   "execution_count": 6,
   "metadata": {},
   "outputs": [],
   "source": [
    "for i, sim in enumerate(sims):\n",
    "    shifts = np.arange(-0.1, 0.1, 0.0001)\n",
    "    shift_idx = np.argmin([data_mismatch(sim_main, sim, modes=[(2, 2)], shift=s) for s in shifts])\n",
    "    sims[i].zero_time = -shifts[shift_idx]\n",
    "    sims[i].time_shift()\n",
    "\n",
    "hsm_list = np.zeros((len(t0_array)))\n",
    "for i, t0 in enumerate(t0_array):\n",
    "    for sim in sims:\n",
    "        hsm = data_mismatch(sim_main, sim, modes=[(2, 2)], t0=t0)\n",
    "        if hsm > hsm_list[i]:\n",
    "            hsm_list[i] = hsm"
   ]
  },
  {
   "cell_type": "code",
   "execution_count": 7,
   "metadata": {},
   "outputs": [
    {
     "name": "stderr",
     "output_type": "stream",
     "text": [
      "/tmp/ipykernel_1962484/2955941574.py:2: MatplotlibDeprecationWarning: The get_cmap function was deprecated in Matplotlib 3.7 and will be removed in 3.11. Use ``matplotlib.colormaps[name]`` or ``matplotlib.colormaps.get_cmap()`` or ``pyplot.get_cmap()`` instead.\n",
      "  colors1 = plt.cm.get_cmap(\"viridis\", n_max + 1)\n"
     ]
    },
    {
     "data": {
      "image/png": "[encoded data removed]",
      "text/plain": [
       "<Figure size 340.39x210.377 with 1 Axes>"
      ]
     },
     "metadata": {},
     "output_type": "display_data"
    }
   ],
   "source": [
    "fig, ax = plt.subplots(figsize=(fig_width, fig_height))\n",
    "colors1 = plt.cm.get_cmap(\"viridis\", n_max + 1)\n",
    "\n",
    "for i, modes in enumerate(mode_list):\n",
    "\n",
    "    line_error_index = np.less(hsm_list, mm_array[i])\n",
    "    first_false_index = np.argmax(~line_error_index)\n",
    "\n",
    "    if not np.all(line_error_index):\n",
    "        line_error_index[first_false_index:] = False\n",
    "\n",
    "    ax.plot(\n",
    "        t0_array[line_error_index],\n",
    "        mm_array[i][line_error_index],\n",
    "        label=f\"${modes[-1][-2]}$\",\n",
    "        color=colors1(i),\n",
    "    )\n",
    "    ax.plot(\n",
    "        t0_array[first_false_index - 1 : first_false_index + 1],\n",
    "        mm_array[i][first_false_index - 1 : first_false_index + 1],\n",
    "        color=colors1(i),\n",
    "        linestyle=\"--\",\n",
    "    )\n",
    "    ax.plot(\n",
    "        t0_array[~line_error_index],\n",
    "        mm_array[i][~line_error_index],\n",
    "        color=colors1(i),\n",
    "        linestyle=\"--\",\n",
    "    )\n",
    "\n",
    "ax.fill_between(t0_array, hsm_list, color=\"grey\", alpha=0.3)\n",
    "\n",
    "ax.set_yscale(\"log\")\n",
    "ax.set_xlim(t0_array[0], t0_array[-1])\n",
    "ax.set_xlabel(\"$t_0 \\ [M]$\")\n",
    "ax.set_ylabel(\"$\\mathcal{M}^{22}$\")\n",
    "\n",
    "_ = ax.legend(\n",
    "    ncol=2,\n",
    "    frameon=False,\n",
    "    loc=\"upper right\",\n",
    "    title=r\"$n_{\\mathrm{max}}$\",\n",
    "    labelspacing=0.1,\n",
    ")\n",
    "\n",
    "fig.savefig(\"figs/mismatch_t0_22mode.pdf\", bbox_inches=\"tight\")"
   ]
  }
 ],
 "metadata": {
  "kernelspec": {
   "display_name": "Python 3",
   "language": "python",
   "name": "python3"
  },
  "language_info": {
   "codemirror_mode": {
    "name": "ipython",
    "version": 3
   },
   "file_extension": ".py",
   "mimetype": "text/x-python",
   "name": "python",
   "nbconvert_exporter": "python",
   "pygments_lexer": "ipython3",
   "version": "3.11.4"
  }
 },
 "nbformat": 4,
 "nbformat_minor": 2
}
