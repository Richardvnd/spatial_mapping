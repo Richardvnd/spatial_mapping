{
 "cells": [
  {
   "cell_type": "markdown",
   "metadata": {},
   "source": [
    "# Temporal and spatial mismatch vs $t_0$: Spatial mismatch, loudest modes mapped simulataneously "
   ]
  },
  {
   "cell_type": "code",
   "execution_count": 1,
   "metadata": {},
   "outputs": [],
   "source": [
    "import numpy as np\n",
    "import matplotlib.pyplot as plt\n",
    "import CCE\n",
    "from qnmfits.spatial_mapping_functions import *\n",
    "\n",
    "plt.style.use(\"stylesheet.mplstyle\")\n",
    "fig_width = 246.0 * (1.0 / 72.27)\n",
    "fig_height = fig_width / 1.618"
   ]
  },
  {
   "cell_type": "code",
   "execution_count": 2,
   "metadata": {},
   "outputs": [],
   "source": [
    "id = \"0001\"\n",
    "\n",
    "sim_main = CCE.SXS_CCE(id, lev=\"Lev5\", radius=\"R2\")\n",
    "sim_options = [(\"Lev4\", \"R2\"), (\"Lev4\", \"R3\"), (\"Lev5\", \"R3\")]\n",
    "\n",
    "sims = []\n",
    "\n",
    "for lev, R in sim_options:\n",
    "    try:\n",
    "        sim = CCE.SXS_CCE(id, lev=lev, radius=R)\n",
    "        sims.append(sim)\n",
    "    except:\n",
    "        pass"
   ]
  },
  {
   "cell_type": "code",
   "execution_count": 3,
   "metadata": {},
   "outputs": [],
   "source": [
    "l_max = 8\n",
    "n_max = 7"
   ]
  },
  {
   "cell_type": "code",
   "execution_count": null,
   "metadata": {},
   "outputs": [],
   "source": [
    "t0_array = np.linspace(-30, 100, 100)\n",
    "\n",
    "# Choose modes to simultaneously map\n",
    "\n",
    "mapping = [(2, 2, 0, 1), (3, 2, 0, 1), (4, 4, 0, 1), (5, 4, 0, 1), (6, 6, 0, 1)]"
   ]
  },
  {
   "cell_type": "code",
   "execution_count": null,
   "metadata": {},
   "outputs": [],
   "source": [
    "sm_array = np.zeros((len(mapping), len(t0_array)))\n",
    "data_sm_array = np.zeros((len(mapping), len(t0_array)))\n",
    "\n",
    "QNMs = []\n",
    "spherical_modes = []\n",
    "\n",
    "for map in mapping:\n",
    "    lam, mp, n, p = map\n",
    "    QNM_list = [\n",
    "        (lam, mp, n, p)\n",
    "        for lam in np.arange(mp, l_max + 1)\n",
    "        for n in np.arange(0, n_max + 1)\n",
    "        for p in (-1, +1)\n",
    "    ]\n",
    "    QNMs += [qnm for qnm in QNM_list if qnm not in QNMs]\n",
    "    spherical_modes += [\n",
    "        (lam, mp)\n",
    "        for lam in np.arange(mp, l_max + 1)\n",
    "        if (lam, mp) not in spherical_modes\n",
    "    ]\n",
    "\n",
    "for j, step in enumerate(t0_array):\n",
    "\n",
    "    best_fit = mapping_multimode_ringdown_fit(\n",
    "        sim_main.times,\n",
    "        sim_main.h,\n",
    "        modes=QNMs.copy(),\n",
    "        Mf=sim_main.Mf,\n",
    "        chif=sim_main.chif_mag,\n",
    "        t0=step,\n",
    "        mapping_modes=mapping,\n",
    "        spherical_modes=spherical_modes,\n",
    "    )\n",
    "\n",
    "    for i, map in enumerate(mapping):\n",
    "        sm, _, _ = spatial_mismatch_linear(best_fit, map, sim_main.chif_mag, l_max)\n",
    "        sm_array[i][j] = sm\n",
    "\n",
    "    # Determine the numerical error using the spatial mismatch\n",
    "\n",
    "    for sim in sims:\n",
    "\n",
    "        best_fit_alt = mapping_multimode_ringdown_fit(\n",
    "            sim.times,\n",
    "            sim.h,\n",
    "            modes=QNMs.copy(),\n",
    "            Mf=sim.Mf,\n",
    "            chif=sim.chif_mag,\n",
    "            t0=step,\n",
    "            mapping_modes=mapping,\n",
    "            spherical_modes=spherical_modes,\n",
    "        )\n",
    "\n",
    "        for i, map in enumerate(mapping):\n",
    "            data_sm = spatial_data_mismatch(best_fit, best_fit_alt, map=map)\n",
    "            if data_sm > data_sm_array[i][j]:\n",
    "                data_sm_array[i][j] = data_sm"
   ]
  },
  {
   "cell_type": "code",
   "execution_count": null,
   "metadata": {},
   "outputs": [
    {
     "name": "stderr",
     "output_type": "stream",
     "text": [
      "/tmp/ipykernel_1963393/3847143419.py:2: MatplotlibDeprecationWarning: The get_cmap function was deprecated in Matplotlib 3.7 and will be removed in 3.11. Use ``matplotlib.colormaps[name]`` or ``matplotlib.colormaps.get_cmap()`` or ``pyplot.get_cmap()`` instead.\n",
      "  colors2 = plt.cm.get_cmap(\"viridis\", len(mapping))\n"
     ]
    },
    {
     "data": {
      "image/png": "[encoded data removed]",
      "text/plain": [
       "<Figure size 345.496x210.377 with 1 Axes>"
      ]
     },
     "metadata": {},
     "output_type": "display_data"
    }
   ],
   "source": [
    "fig, ax = plt.subplots(\n",
    "    figsize=(fig_width * 1.015, fig_height), ncols=1, nrows=1, sharex=True\n",
    ")\n",
    "colors2 = plt.cm.get_cmap(\"viridis\", len(mapping))\n",
    "\n",
    "for i, map in enumerate(mapping):\n",
    "\n",
    "    line_error_index = np.less(data_sm_array[i], sm_array[i])\n",
    "    first_false_index = np.argmax(~line_error_index)\n",
    "\n",
    "    if not np.all(line_error_index):\n",
    "        line_error_index[first_false_index:] = False\n",
    "\n",
    "    # Plot lines and switch to -- linestyle when line falls below numerical error\n",
    "\n",
    "    ax.plot(\n",
    "        t0_array[line_error_index],\n",
    "        sm_array[i][line_error_index],\n",
    "        color=colors2(i),\n",
    "        label=f\"({map[0]}, {map[1]}, {map[2]}, +)\",\n",
    "    )\n",
    "    ax.plot(\n",
    "        t0_array[first_false_index - 1 : first_false_index + 1],\n",
    "        sm_array[i][first_false_index - 1 : first_false_index + 1],\n",
    "        color=colors2(i),\n",
    "        linestyle=\"--\",\n",
    "    )\n",
    "    ax.plot(\n",
    "        t0_array[~line_error_index],\n",
    "        sm_array[i][~line_error_index],\n",
    "        color=colors2(i),\n",
    "        linestyle=\"--\",\n",
    "    )\n",
    "\n",
    "    # Show the mismatch numerical error for the (2,2,0,1) mode\n",
    "\n",
    "    if map == (2, 2, 0, 1):\n",
    "        ax.fill_between(t0_array, data_sm_array[i], color=\"grey\", alpha=0.3)\n",
    "\n",
    "ax.set_xlabel(\"$t_0 \\ [M]$\")\n",
    "ax.set_yscale(\"log\")\n",
    "ax.set_ylabel(r\"$\\mathcal{M}_{\\alpha}$\")\n",
    "ax.legend(\n",
    "    loc=\"upper right\",\n",
    "    ncol=2,\n",
    "    fontsize=6.7,\n",
    "    bbox_to_anchor=(1.0, 1.02),\n",
    "    labelspacing=0.1,\n",
    ")\n",
    "ax.set_xlim(np.min(t0_array), np.max(t0_array))\n",
    "ax.set_ylim(5e-13, 5e2)\n",
    "\n",
    "plt.show()\n",
    "fig.savefig(\"figs/sm_mismatch_loudest_multi.pdf\", bbox_inches=\"tight\")"
   ]
  }
 ],
 "metadata": {
  "kernelspec": {
   "display_name": "Python 3",
   "language": "python",
   "name": "python3"
  },
  "language_info": {
   "codemirror_mode": {
    "name": "ipython",
    "version": 3
   },
   "file_extension": ".py",
   "mimetype": "text/x-python",
   "name": "python",
   "nbconvert_exporter": "python",
   "pygments_lexer": "ipython3",
   "version": "3.11.4"
  }
 },
 "nbformat": 4,
 "nbformat_minor": 2
}
