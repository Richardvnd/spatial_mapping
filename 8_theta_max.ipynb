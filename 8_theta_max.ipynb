{
 "cells": [
  {
   "cell_type": "markdown",
   "metadata": {},
   "source": [
    "# Maximum amplitude angle for the fundamental QQNM"
   ]
  },
  {
   "cell_type": "code",
   "execution_count": 1,
   "metadata": {},
   "outputs": [],
   "source": [
    "import numpy as np\n",
    "import matplotlib.pyplot as plt\n",
    "import CCE\n",
    "from qnmfits.spatial_mapping_functions import *\n",
    "\n",
    "from mpl_toolkits.axes_grid1.inset_locator import zoomed_inset_axes\n",
    "from mpl_toolkits.axes_grid1.inset_locator import mark_inset\n",
    "\n",
    "plt.style.use(\"stylesheet.mplstyle\")\n",
    "fig_width = 246.0 * (1.0 / 72.27)\n",
    "fig_height = fig_width / 1.618"
   ]
  },
  {
   "cell_type": "code",
   "execution_count": 2,
   "metadata": {},
   "outputs": [],
   "source": [
    "l_max = 8\n",
    "n_max = 7\n",
    "\n",
    "mapping = [(2, 2, 0, 1, 2, 2, 0, 1)]\n",
    "map = mapping[0]\n",
    "lpp = 4\n",
    "mpp = 4\n",
    "\n",
    "start_times = [\n",
    "    17.0,\n",
    "    21.0,\n",
    "    23.0,\n",
    "    26.0,\n",
    "    17.0,\n",
    "    17.0,\n",
    "    17.0,\n",
    "    11.0,\n",
    "    29.0,\n",
    "    16.0,\n",
    "    12.0,\n",
    "    17.0,\n",
    "    6.0,\n",
    "]\n",
    "simnums = [\n",
    "    \"0001\",\n",
    "    \"0002\",\n",
    "    \"0003\",\n",
    "    \"0004\",\n",
    "    \"0005\",\n",
    "    \"0006\",\n",
    "    \"0007\",\n",
    "    \"0008\",\n",
    "    \"0009\",\n",
    "    \"0010\",\n",
    "    \"0011\",\n",
    "    \"0012\",\n",
    "    \"0013\",\n",
    "]"
   ]
  },
  {
   "cell_type": "code",
   "execution_count": 3,
   "metadata": {},
   "outputs": [],
   "source": [
    "def theta_max_finder(G, thetas):\n",
    "    max_index = np.argmax(np.abs(G))\n",
    "    return thetas[max_index] * (180 / np.pi)"
   ]
  },
  {
   "cell_type": "code",
   "execution_count": 4,
   "metadata": {},
   "outputs": [],
   "source": [
    "phis = 0\n",
    "thetas = np.linspace(-np.pi / 2, np.pi / 2, 10000)\n",
    "Lon, Lat = np.meshgrid(phis, thetas)"
   ]
  },
  {
   "cell_type": "code",
   "execution_count": 5,
   "metadata": {},
   "outputs": [],
   "source": [
    "theta_maxes = []\n",
    "theta_maxes_error = []\n",
    "sim_spins = []\n",
    "sim_masses = []\n",
    "\n",
    "QNMs = [\n",
    "    (lam, mpp, n, p)\n",
    "    for lam in np.arange(lpp, l_max + 1)\n",
    "    for n in np.arange(0, n_max + 1)\n",
    "    for p in (-1, +1)\n",
    "]\n",
    "\n",
    "for simnum, t0 in zip(simnums, start_times):\n",
    "\n",
    "    sim = CCE.SXS_CCE(simnum, lev=\"Lev5\", radius=\"R2\")\n",
    "\n",
    "    theta_max_options = []\n",
    "\n",
    "    for t0_alt in np.arange(t0 - 5, t0 + 6, 1):\n",
    "\n",
    "        best_fit = mapping_multimode_ringdown_fit(\n",
    "            sim.times,\n",
    "            sim.h,\n",
    "            modes=QNMs.copy(),\n",
    "            Mf=sim.Mf,\n",
    "            chif=sim.chif_mag,\n",
    "            t0=t0_alt,\n",
    "            mapping_modes=mapping,\n",
    "            spherical_modes=[(lam, mpp) for lam in np.arange(lpp, l_max + 1)],\n",
    "        )\n",
    "\n",
    "        F = spatial_reconstruction(np.pi / 2 - Lat, Lon, best_fit, map, l_max)\n",
    "        theta_max = theta_max_finder(F, thetas)\n",
    "\n",
    "        if t0_alt == t0:\n",
    "\n",
    "            sim_spins.append(sim.chif_mag)\n",
    "            sim_masses.append(sim.Mf)\n",
    "            theta_maxes.append(theta_max)\n",
    "\n",
    "        theta_max_options.append(theta_max)\n",
    "\n",
    "    theta_error = max(theta_max_options) - min(theta_max_options)\n",
    "    theta_maxes_error.append(theta_error)"
   ]
  },
  {
   "cell_type": "code",
   "execution_count": 6,
   "metadata": {},
   "outputs": [],
   "source": [
    "spins = np.linspace(0, 0.99, 100)\n",
    "\n",
    "theta_maxes_GA = []\n",
    "theta_maxes_GB1 = []\n",
    "theta_maxes_GB2 = []\n",
    "theta_maxes_GC = []\n",
    "theta_maxes_GD = []\n",
    "theta_maxes_test = []\n",
    "\n",
    "for spin in spins:\n",
    "\n",
    "    G_Bi = spatial_prediction_quadratic(\n",
    "        np.pi / 2 - Lat, Lon, map, l_max, spin, Qmu_B, s1=-2, s2=0\n",
    "    )\n",
    "    G_Bii = spatial_prediction_quadratic(\n",
    "        np.pi / 2 - Lat, Lon, map, l_max, spin, Qmu_B, s1=-1, s2=-1\n",
    "    )\n",
    "    G_C = spatial_prediction_C(np.pi / 2 - Lat, Lon, map, spin)\n",
    "    G_D = spatial_prediction_quadratic(np.pi / 2 - Lat, Lon, map, l_max, spin, Qmu_D)\n",
    "\n",
    "    theta_maxes_GB1.append(theta_max_finder(G_Bi, thetas))\n",
    "    theta_maxes_GB2.append(theta_max_finder(G_Bii, thetas))\n",
    "    theta_maxes_GC.append(theta_max_finder(G_C, thetas))\n",
    "    theta_maxes_GD.append(theta_max_finder(G_D, thetas))"
   ]
  },
  {
   "cell_type": "code",
   "execution_count": 7,
   "metadata": {},
   "outputs": [
    {
     "name": "stderr",
     "output_type": "stream",
     "text": [
      "/tmp/ipykernel_1944798/1804819811.py:2: MatplotlibDeprecationWarning: The get_cmap function was deprecated in Matplotlib 3.7 and will be removed in 3.11. Use ``matplotlib.colormaps[name]`` or ``matplotlib.colormaps.get_cmap()`` or ``pyplot.get_cmap()`` instead.\n",
      "  colors = plt.cm.get_cmap(\"viridis\", 5)\n",
      "/tmp/ipykernel_1944798/1804819811.py:53: UserWarning: This figure includes Axes that are not compatible with tight_layout, so results might be incorrect.\n",
      "  plt.savefig(\"figs/theta_max.pdf\", bbox_inches=\"tight\")\n",
      "/tmp/ipykernel_1944798/1804819811.py:53: UserWarning: This figure includes Axes that are not compatible with tight_layout, so results might be incorrect.\n",
      "  plt.savefig(\"figs/theta_max.pdf\", bbox_inches=\"tight\")\n",
      "/data/vault/rvnd2/python_envs/venv/lib/python3.11/site-packages/IPython/core/pylabtools.py:170: UserWarning: This figure includes Axes that are not compatible with tight_layout, so results might be incorrect.\n",
      "  fig.canvas.print_figure(bytes_io, **kw)\n"
     ]
    },
    {
     "data": {
      "image/png": "[encoded data removed]",
      "text/plain": [
       "<Figure size 340.39x210.377 with 2 Axes>"
      ]
     },
     "metadata": {},
     "output_type": "display_data"
    }
   ],
   "source": [
    "fig, ax = plt.subplots(figsize=(fig_width, fig_height))\n",
    "colors = plt.cm.get_cmap(\"viridis\", 5)\n",
    "axins = zoomed_inset_axes(ax, 3.5, loc=4)\n",
    "\n",
    "ax.plot(spins, theta_maxes_GB1, label=r\"B (i)\", color=colors(1), zorder=1)\n",
    "ax.plot(spins, theta_maxes_GB2, label=r\"B (ii)\", color=colors(2), zorder=1)\n",
    "ax.plot(spins, theta_maxes_GC, label=\"C\", color=colors(3), zorder=1)\n",
    "ax.plot(spins, theta_maxes_GD, label=\"D\", color=colors(4), zorder=1)\n",
    "\n",
    "axins.plot(spins, theta_maxes_GB1, label=r\"B (i)\", color=\"r\", zorder=1)\n",
    "axins.plot(spins, theta_maxes_GB2, label=r\"B (ii)\", color=\"b\", zorder=1)\n",
    "axins.plot(spins, theta_maxes_GC, label=\"C\", color=colors(2), zorder=1)\n",
    "\n",
    "ax.fill_between(spins, theta_maxes_GD, theta_maxes_GB1, color=\"gray\", alpha=0.1)\n",
    "\n",
    "for i, simnum in enumerate(simnums):\n",
    "    \n",
    "    ax.scatter(sim_spins[i], theta_maxes[i], s=3, color=\"k\", zorder=2)\n",
    "    ax.errorbar(\n",
    "        sim_spins[i],\n",
    "        theta_maxes[i],\n",
    "        yerr=theta_maxes_error[i],\n",
    "        markersize=3,\n",
    "        color=\"k\",\n",
    "        zorder=2,\n",
    "    )\n",
    "\n",
    "    axins.scatter(sim_spins[i], theta_maxes[i], s=2, color=\"k\", zorder=2)\n",
    "    axins.errorbar(\n",
    "        sim_spins[i],\n",
    "        theta_maxes[i],\n",
    "        yerr=theta_maxes_error[i],\n",
    "        markersize=2,\n",
    "        color=\"k\",\n",
    "        zorder=2,\n",
    "        linestyle=\":\",\n",
    "    )\n",
    "\n",
    "x1, x2, y1, y2 = 0.66, 0.7, 34.2, 35.5\n",
    "axins.set_xlim(x1, x2)\n",
    "axins.set_ylim(y1, y2)\n",
    "axins.set_xticklabels([])\n",
    "axins.set_yticklabels([])\n",
    "axins.set_xticks([])\n",
    "axins.set_yticks([])\n",
    "mark_inset(ax, axins, loc1=2, loc2=3, fc=\"none\", ec=\"0.5\", alpha=0.3, lw=0.8)\n",
    "\n",
    "ax.legend(title=\"Predicted\")\n",
    "ax.set_xlim(0, 0.99)\n",
    "ax.set_xlabel(r\"$\\chi_f$\")\n",
    "ax.set_ylabel(r\"$\\theta_{\\rm max} \\ \\mathrm{[deg]}$\")\n",
    "\n",
    "plt.savefig(\"figs/theta_max.pdf\", bbox_inches=\"tight\")"
   ]
  }
 ],
 "metadata": {
  "kernelspec": {
   "display_name": "Python 3",
   "language": "python",
   "name": "python3"
  },
  "language_info": {
   "codemirror_mode": {
    "name": "ipython",
    "version": 3
   },
   "file_extension": ".py",
   "mimetype": "text/x-python",
   "name": "python",
   "nbconvert_exporter": "python",
   "pygments_lexer": "ipython3",
   "version": "3.11.4"
  }
 },
 "nbformat": 4,
 "nbformat_minor": 2
}
