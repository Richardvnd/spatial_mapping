{
 "cells": [
  {
   "cell_type": "markdown",
   "metadata": {},
   "source": [
    "# Reconstruction: quadratic \n",
    "\n",
    "The spatial reconstruction of the fundamental QQNM compared with the corresponding spatial predictions, plotted on the sphere in Mollweide projection. "
   ]
  },
  {
   "cell_type": "code",
   "execution_count": null,
   "metadata": {},
   "outputs": [],
   "source": [
    "import numpy as np\n",
    "import matplotlib.pyplot as plt\n",
    "import CCE\n",
    "from qnmfits.spatial_mapping_functions import *\n",
    "\n",
    "plt.style.use(\"stylesheet.mplstyle\")\n",
    "fig_width = 246.0 * (1.0 / 72.27)\n",
    "fig_height = fig_width / 1.618"
   ]
  },
  {
   "cell_type": "code",
   "execution_count": null,
   "metadata": {},
   "outputs": [],
   "source": [
    "id = \"0001\"\n",
    "sim = CCE.SXS_CCE(id)\n",
    "\n",
    "chif = sim.chif_mag\n",
    "Mf = sim.Mf\n",
    "\n",
    "l_max = 8\n",
    "n_max = 7\n",
    "\n",
    "t0 = 8"
   ]
  },
  {
   "cell_type": "code",
   "execution_count": null,
   "metadata": {},
   "outputs": [],
   "source": [
    "mapping = [(2, 2, 0, 1, 2, 2, 0, 1)]\n",
    "map = mapping[0]\n",
    "\n",
    "QNMs = [\n",
    "    (lam, 4, n, p)\n",
    "    for lam in np.arange(4, l_max + 1)\n",
    "    for n in np.arange(0, n_max + 1)\n",
    "    for p in (-1, +1)\n",
    "]\n",
    "\n",
    "best_fit = mapping_multimode_ringdown_fit(\n",
    "    sim.times,\n",
    "    sim.h,\n",
    "    modes=QNMs.copy(),\n",
    "    Mf=sim.Mf,\n",
    "    chif=sim.chif_mag,\n",
    "    t0=t0,\n",
    "    mapping_modes=mapping,\n",
    "    spherical_modes=[(lam, 4) for lam in np.arange(4, l_max + 1)],\n",
    ")"
   ]
  },
  {
   "cell_type": "code",
   "execution_count": null,
   "metadata": {},
   "outputs": [],
   "source": [
    "# Compute the spatial mismatch for the various predictions\n",
    "\n",
    "smA = spatial_mismatch_quadratic(best_fit, map, l_max, chif, Qmu_A)\n",
    "smBi = spatial_mismatch_quadratic(best_fit, map, l_max, chif, Qmu_B, s1=-2, s2=0)\n",
    "smBii = spatial_mismatch_quadratic(best_fit, map, l_max, chif, Qmu_B, s1=-1, s2=-1)\n",
    "smC = spatial_mismatch_quadratic(best_fit, map, l_max, chif, Qmu_C)\n",
    "smD = spatial_mismatch_quadratic(best_fit, map, l_max, chif, Qmu_D)\n",
    "\n",
    "print(\"A:\", smA)\n",
    "print(\"Bi:\", smBi)\n",
    "print(\"Bii:\", smBii)\n",
    "print(\"C:\", smC)\n",
    "print(\"D:\", smD)"
   ]
  },
  {
   "cell_type": "code",
   "execution_count": null,
   "metadata": {},
   "outputs": [],
   "source": [
    "# Compute the spatial reconstruction for the various predictions\n",
    "\n",
    "lon = np.linspace(-np.pi, np.pi, 200)\n",
    "lat = np.linspace(-np.pi / 2, np.pi / 2, 200)\n",
    "Lon, Lat = np.meshgrid(lon, lat)\n",
    "\n",
    "map = (2, 2, 0, 1, 2, 2, 0, 1)\n",
    "\n",
    "F = spatial_reconstruction(np.pi / 2 - Lat, Lon, best_fit, map, l_max)\n",
    "G_A = spatial_prediction_quadratic(\n",
    "    np.pi / 2 - Lat, Lon, map, l_max, chif, Qmu_A, s1=-2, s2=-2, s3=-4\n",
    ")\n",
    "G_Bi = spatial_prediction_quadratic(\n",
    "    np.pi / 2 - Lat, Lon, map, l_max, chif, Qmu_B, s1=-2, s2=0\n",
    ")\n",
    "G_Bii = spatial_prediction_quadratic(\n",
    "    np.pi / 2 - Lat, Lon, map, l_max, chif, Qmu_B, s1=-1, s2=-1\n",
    ")\n",
    "G_C = spatial_prediction_C(np.pi / 2 - Lat, Lon, map, chif)\n",
    "G_D = spatial_prediction_quadratic(np.pi / 2 - Lat, Lon, map, l_max, chif, Qmu_D)"
   ]
  },
  {
   "cell_type": "code",
   "execution_count": null,
   "metadata": {},
   "outputs": [],
   "source": [
    "fig, ax = plt.subplots(\n",
    "    figsize=(fig_width * 2, fig_height * 1.5),\n",
    "    nrows=2,\n",
    "    ncols=3,\n",
    "    subplot_kw={\"projection\": \"mollweide\"},\n",
    ")\n",
    "\n",
    "ax[0, 0].title.set_text(\"Reconstruction\")\n",
    "ax[0, 0].pcolormesh(Lon, Lat, np.real(F), cmap=plt.cm.RdBu)\n",
    "ax[0, 0].set_xticks(np.radians([-90, 0, 90]))\n",
    "ax[0, 0].set_yticks(np.radians([-60, 0, 60]))\n",
    "\n",
    "ax[0, 1].title.set_text(\"Prediction A\")\n",
    "im3 = ax[0, 1].pcolormesh(Lon, Lat, np.real(G_A), cmap=plt.cm.RdBu)\n",
    "ax[0, 1].set_xticks(np.radians([-90, 0, 90]))\n",
    "ax[0, 1].set_yticks(np.radians([-60, 0, 60]))\n",
    "\n",
    "ax[0, 2].title.set_text(\"Prediction B (i)\")\n",
    "ax[0, 2].pcolormesh(Lon, Lat, np.real(G_Bi), cmap=plt.cm.RdBu)\n",
    "ax[0, 2].set_xticks(np.radians([-90, 0, 90]))\n",
    "ax[0, 2].set_yticks(np.radians([-60, 0, 60]))\n",
    "\n",
    "ax[1, 0].title.set_text(\"Prediction B (ii)\")\n",
    "ax[1, 0].pcolormesh(Lon, Lat, np.real(G_Bii), cmap=plt.cm.RdBu)\n",
    "ax[1, 0].set_xticks(np.radians([-90, 0, 90]))\n",
    "ax[1, 0].set_yticks(np.radians([-60, 0, 60]))\n",
    "\n",
    "ax[1, 1].title.set_text(\"Prediction C\")\n",
    "ax[1, 1].pcolormesh(Lon, Lat, np.real(G_C), cmap=plt.cm.RdBu)\n",
    "ax[1, 1].set_xticks(np.radians([-90, 0, 90]))\n",
    "ax[1, 1].set_yticks(np.radians([-60, 0, 60]))\n",
    "\n",
    "ax[1, 2].title.set_text(\"Prediction D\")\n",
    "ax[1, 2].pcolormesh(Lon, Lat, np.real(G_D), cmap=plt.cm.RdBu)\n",
    "ax[1, 2].set_xticks(np.radians([-90, 0, 90]))\n",
    "ax[1, 2].set_yticks(np.radians([-60, 0, 60]))\n",
    "\n",
    "cax = fig.add_axes([0.25, 0, 0.51, 0.04])\n",
    "fig.colorbar(im3, cax=cax, orientation=\"horizontal\")\n",
    "fig.text(\n",
    "    0.5,\n",
    "    0.065,\n",
    "    r\"$\\mathrm{Re}(A_{\\Tilde{\\alpha} \\Tilde{\\alpha} '}(\\theta , \\phi))$\",\n",
    "    ha=\"center\",\n",
    ")\n",
    "\n",
    "fig.savefig(\n",
    "    \"figs/quadratic_fundamental_mapping_reconstruction.png\",\n",
    "    dpi=600,\n",
    "    bbox_inches=\"tight\",\n",
    ")\n",
    "plt.show()"
   ]
  }
 ],
 "metadata": {
  "kernelspec": {
   "display_name": "Python 3",
   "language": "python",
   "name": "python3"
  },
  "language_info": {
   "codemirror_mode": {
    "name": "ipython",
    "version": 3
   },
   "file_extension": ".py",
   "mimetype": "text/x-python",
   "name": "python",
   "nbconvert_exporter": "python",
   "pygments_lexer": "ipython3",
   "version": "3.11.4"
  }
 },
 "nbformat": 4,
 "nbformat_minor": 2
}
