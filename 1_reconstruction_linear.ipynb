{
 "cells": [
  {
   "cell_type": "markdown",
   "metadata": {},
   "source": [
    "# Reconstruction: linear \n",
    "\n",
    "The spatial reconstruction of the fundamental QNM compared with the corresponding spheroidal harmonic, plotted on the sphere in Mollweide projection. "
   ]
  },
  {
   "cell_type": "code",
   "execution_count": 1,
   "metadata": {},
   "outputs": [],
   "source": [
    "import numpy as np\n",
    "import matplotlib.pyplot as plt\n",
    "import CCE \n",
    "from qnmfits.spatial_mapping_functions import *\n",
    "\n",
    "plt.style.use(\"stylesheet.mplstyle\")\n",
    "fig_width = 246.0 * (1.0 / 72.27)\n",
    "fig_height = fig_width / 1.618"
   ]
  },
  {
   "cell_type": "code",
   "execution_count": 2,
   "metadata": {},
   "outputs": [],
   "source": [
    "sim = CCE.SXS_CCE(\"0001\")\n",
    "\n",
    "l_max = 8\n",
    "n_max = 7\n",
    "\n",
    "t0 = 17.0\n",
    "mapping = [(2, 2, 0, 1)]\n",
    "map = mapping[0]"
   ]
  },
  {
   "cell_type": "code",
   "execution_count": null,
   "metadata": {},
   "outputs": [],
   "source": [
    "QNMs = [\n",
    "    (lam, 2, n, p)\n",
    "    for lam in np.arange(2, l_max + 1)\n",
    "    for n in np.arange(0, n_max + 1)\n",
    "    for p in (-1, +1)\n",
    "]\n",
    "\n",
    "best_fit = mapping_multimode_ringdown_fit(\n",
    "    sim.times,\n",
    "    sim.h,\n",
    "    modes=QNMs,\n",
    "    Mf=sim.Mf,\n",
    "    chif=sim.chif_mag,\n",
    "    t0=t0,\n",
    "    mapping_modes=mapping,\n",
    "    spherical_modes=[(l, 2) for l in np.arange(2, l_max + 1)],\n",
    ")\n",
    "\n",
    "sm, _, _ = spatial_mismatch_linear(best_fit, map, sim.chif_mag, l_max)\n",
    "print(sm)"
   ]
  },
  {
   "cell_type": "code",
   "execution_count": null,
   "metadata": {},
   "outputs": [],
   "source": [
    "lon = np.linspace(-np.pi, np.pi, 200)\n",
    "lat = np.linspace(-np.pi / 2, np.pi / 2, 200)\n",
    "\n",
    "map = mapping[0]\n",
    "\n",
    "Lon, Lat = np.meshgrid(lon, lat)\n",
    "\n",
    "F = spatial_reconstruction(np.pi / 2 - Lat, Lon, best_fit, map, l_max)\n",
    "G = spatial_prediction_linear(np.pi / 2 - Lat, Lon, map, l_max, sim.chif_mag)\n",
    "\n",
    "fig, axs = plt.subplots(\n",
    "    nrows=1,\n",
    "    ncols=2,\n",
    "    subplot_kw={\"projection\": \"mollweide\"},\n",
    "    figsize=(fig_width * 2, fig_height * 2),\n",
    ")\n",
    "\n",
    "axs[0].title.set_text(\"Reconstruction\")\n",
    "axs[0].pcolormesh(Lon, Lat, np.real(F), cmap=plt.cm.RdBu)\n",
    "axs[0].set_xticks(np.radians([-120, -60, 0, 60, 120]))\n",
    "axs[0].set_yticks(np.radians([-60, -30, 0, 30, 60]))\n",
    "\n",
    "axs[1].title.set_text(\"Predicted\")\n",
    "im3 = axs[1].pcolormesh(Lon, Lat, np.real(G), cmap=plt.cm.RdBu)\n",
    "axs[1].set_xticks(np.radians([-120, -60, 0, 60, 120]))\n",
    "axs[1].set_yticks(np.radians([-60, -30, 0, 30, 60]))\n",
    "\n",
    "cax = fig.add_axes([0.25, 0.25, 0.51, 0.04])\n",
    "fig.colorbar(im3, cax=cax, orientation=\"horizontal\")\n",
    "fig.text(0.5, 0.31, r\"$\\mathrm{Re}(A_{(220+)}(\\theta , \\phi))$\", ha=\"center\")\n",
    "\n",
    "axs[0].tick_params(which=\"both\")\n",
    "axs[1].tick_params(which=\"both\")\n",
    "\n",
    "fig.savefig(\"figs/linear_mapping_reconstruction.png\", dpi=600, bbox_inches=\"tight\")\n",
    "plt.show()"
   ]
  }
 ],
 "metadata": {
  "kernelspec": {
   "display_name": "Python 3",
   "language": "python",
   "name": "python3"
  },
  "language_info": {
   "codemirror_mode": {
    "name": "ipython",
    "version": 3
   },
   "file_extension": ".py",
   "mimetype": "text/x-python",
   "name": "python",
   "nbconvert_exporter": "python",
   "pygments_lexer": "ipython3",
   "version": "3.11.4"
  }
 },
 "nbformat": 4,
 "nbformat_minor": 2
}
