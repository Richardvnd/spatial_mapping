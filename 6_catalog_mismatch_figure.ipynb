{
 "cells": [
  {
   "cell_type": "markdown",
   "metadata": {},
   "source": [
    "# The lowest spatial mismatches for each simulation in the CCE catalog"
   ]
  },
  {
   "cell_type": "code",
   "execution_count": 2,
   "metadata": {},
   "outputs": [],
   "source": [
    "import matplotlib.pyplot as plt\n",
    "import pickle\n",
    "from qnmfits.spatial_mapping_functions import *\n",
    "from matplotlib.lines import Line2D\n",
    "\n",
    "plt.style.use(\"stylesheet.mplstyle\")\n",
    "fig_width = 246.0 * (1.0 / 72.27)\n",
    "fig_height = 2.55"
   ]
  },
  {
   "cell_type": "code",
   "execution_count": 3,
   "metadata": {},
   "outputs": [],
   "source": [
    "simnums = [\n",
    "    \"0001\",\n",
    "    \"0002\",\n",
    "    \"0003\",\n",
    "    \"0004\",\n",
    "    \"0005\",\n",
    "    \"0006\",\n",
    "    \"0007\",\n",
    "    \"0008\",\n",
    "    \"0009\",\n",
    "    \"0010\",\n",
    "    \"0011\",\n",
    "    \"0012\",\n",
    "    \"0013\",\n",
    "]\n",
    "\n",
    "sim_main_option = \"_Lev5_R2\"\n",
    "sim_options = [(\"Lev4\", \"R2\"), (\"Lev4\", \"R3\"), (\"Lev5\", \"R2\"), (\"Lev5\", \"R3\")]"
   ]
  },
  {
   "cell_type": "code",
   "execution_count": 4,
   "metadata": {},
   "outputs": [],
   "source": [
    "with open(\"sim_mismatches_new.pickle\", \"rb\") as file:\n",
    "    sim_mismatches = pickle.load(file)"
   ]
  },
  {
   "cell_type": "code",
   "execution_count": 5,
   "metadata": {},
   "outputs": [
    {
     "name": "stderr",
     "output_type": "stream",
     "text": [
      "/tmp/ipykernel_45383/1568076395.py:14: MatplotlibDeprecationWarning: The get_cmap function was deprecated in Matplotlib 3.7 and will be removed in 3.11. Use ``matplotlib.colormaps[name]`` or ``matplotlib.colormaps.get_cmap()`` or ``pyplot.get_cmap()`` instead.\n",
      "  colors = plt.cm.get_cmap(\"viridis\", len(markers))\n"
     ]
    }
   ],
   "source": [
    "sorted_simnums = simnums\n",
    "\n",
    "markers = {\n",
    "    \"(2, 0, 0, 1)\": \"P\",\n",
    "    \"(2, 1, 0, 1)\": \"X\",\n",
    "    \"(2, 2, 0, 1)\": \"o\",\n",
    "    \"(3, 2, 0, 1)\": \"^\",\n",
    "    \"(3, 3, 0, 1)\": \"v\",\n",
    "    \"(4, 4, 0, 1)\": \"s\",\n",
    "    \"(5, 5, 0, 1)\": \"p\",\n",
    "    \"(6, 6, 0, 1)\": \"<\",\n",
    "}\n",
    "\n",
    "colors = plt.cm.get_cmap(\"viridis\", len(markers))\n",
    "colors_dict = {qnm: colors(i) for i, qnm in enumerate(markers.keys())}"
   ]
  },
  {
   "cell_type": "code",
   "execution_count": 6,
   "metadata": {},
   "outputs": [
    {
     "data": {
      "image/png": "[encoded data removed]",
      "text/plain": [
       "<Figure size 340.39x255 with 1 Axes>"
      ]
     },
     "metadata": {},
     "output_type": "display_data"
    }
   ],
   "source": [
    "fig, ax = plt.subplots(figsize=(fig_width, fig_height))\n",
    "\n",
    "for i, simnum in enumerate(sorted_simnums):\n",
    "    key = simnum + sim_main_option\n",
    "    mismatch_data = sim_mismatches[key]\n",
    "    sorted_keys = sorted(mismatch_data, key=mismatch_data.get)\n",
    "    sorted_keys = [k for k in sorted_keys if mismatch_data[k] >= 1e-13]\n",
    "    sorted_keys = [k for k in sorted_keys if k[3] != -1]\n",
    "\n",
    "    if simnum == \"0008\" or simnum == \"0013\":\n",
    "        ax.axvspan(\n",
    "            sorted_simnums.index(simnum) - 0.4,\n",
    "            sorted_simnums.index(simnum) + 0.4,\n",
    "            color=\"red\",\n",
    "            alpha=0.07,\n",
    "        )\n",
    "\n",
    "    smallest_keys = sorted_keys[:3]\n",
    "\n",
    "    for qnm in smallest_keys:\n",
    "        mismatch = mismatch_data[qnm]\n",
    "        ax.scatter(\n",
    "            i,\n",
    "            mismatch,\n",
    "            color=colors_dict[f\"{qnm}\"],\n",
    "            marker=markers[f\"{qnm}\"],\n",
    "            edgecolor=\"black\",\n",
    "            linewidth=0.5,\n",
    "            s=20,\n",
    "        )\n",
    "\n",
    "legend_elements = [\n",
    "    Line2D(\n",
    "        [0],\n",
    "        [0],\n",
    "        marker=marker,\n",
    "        color=\"w\",\n",
    "        label=f\"{qnm[0:2]}{qnm[4]}{qnm[7]}\" + r\"$+)$\",\n",
    "        markerfacecolor=colors_dict[f\"{qnm}\"],\n",
    "        markersize=4,\n",
    "        linewidth=0.01,\n",
    "        markeredgecolor=\"black\",\n",
    "    )\n",
    "    for qnm, marker in markers.items()\n",
    "]\n",
    "legend_elements.reverse()\n",
    "\n",
    "ax.legend(\n",
    "    handles=legend_elements,\n",
    "    title=\"QNM\",\n",
    "    loc=\"center left\",\n",
    "    fontsize=6,\n",
    "    title_fontsize=6,\n",
    "    frameon=True,\n",
    "    bbox_to_anchor=(0.02, 0.5),\n",
    ")\n",
    "\n",
    "ax.set_xticks(range(len(sorted_simnums)))\n",
    "ax.set_xticklabels(sorted_simnums, rotation=\"vertical\")\n",
    "\n",
    "ax.set_yscale(\"log\")\n",
    "\n",
    "ax.set_xlabel(\"Simulation ID\")\n",
    "ax.set_ylabel(r\"$\\mathcal{M}_{\\Tilde{\\alpha}}$\")\n",
    "ax.tick_params(axis=\"both\", which=\"major\")\n",
    "\n",
    "plt.show()\n",
    "\n",
    "fig.savefig(\"figs/catalog_plot.pdf\", dpi=600, bbox_inches=\"tight\")"
   ]
  }
 ],
 "metadata": {
  "kernelspec": {
   "display_name": "Python 3",
   "language": "python",
   "name": "python3"
  },
  "language_info": {
   "codemirror_mode": {
    "name": "ipython",
    "version": 3
   },
   "file_extension": ".py",
   "mimetype": "text/x-python",
   "name": "python",
   "nbconvert_exporter": "python",
   "pygments_lexer": "ipython3",
   "version": "3.11.4"
  }
 },
 "nbformat": 4,
 "nbformat_minor": 2
}
