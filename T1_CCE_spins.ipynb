{
 "cells": [
  {
   "cell_type": "code",
   "execution_count": 1,
   "metadata": {},
   "outputs": [],
   "source": [
    "import CCE"
   ]
  },
  {
   "cell_type": "code",
   "execution_count": 2,
   "metadata": {},
   "outputs": [],
   "source": [
    "sims = [\n",
    "    \"0001\",\n",
    "    \"0002\",\n",
    "    \"0003\",\n",
    "    \"0004\",\n",
    "    \"0005\",\n",
    "    \"0006\",\n",
    "    \"0007\",\n",
    "    \"0008\",\n",
    "    \"0009\",\n",
    "    \"0010\",\n",
    "    \"0011\",\n",
    "    \"0012\",\n",
    "    \"0013\",\n",
    "]"
   ]
  },
  {
   "cell_type": "code",
   "execution_count": null,
   "metadata": {},
   "outputs": [],
   "source": [
    "for simnum in sims:\n",
    "    sim = CCE.SXS_CCE(simnum)\n",
    "    print(f\"{simnum}: {sim.chif_mag}\")"
   ]
  }
 ],
 "metadata": {
  "kernelspec": {
   "display_name": "Python 3",
   "language": "python",
   "name": "python3"
  },
  "language_info": {
   "codemirror_mode": {
    "name": "ipython",
    "version": 3
   },
   "file_extension": ".py",
   "mimetype": "text/x-python",
   "name": "python",
   "nbconvert_exporter": "python",
   "pygments_lexer": "ipython3",
   "version": "3.11.4"
  }
 },
 "nbformat": 4,
 "nbformat_minor": 2
}
